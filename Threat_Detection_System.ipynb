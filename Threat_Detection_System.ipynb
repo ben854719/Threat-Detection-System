{
  "nbformat": 4,
  "nbformat_minor": 0,
  "metadata": {
    "colab": {
      "provenance": [],
      "gpuType": "V28",
      "cell_execution_strategy": "setup",
      "authorship_tag": "ABX9TyNfK+cIOkvcE61yofp5dooN",
      "include_colab_link": true
    },
    "kernelspec": {
      "name": "python3",
      "display_name": "Python 3"
    },
    "language_info": {
      "name": "python"
    },
    "accelerator": "TPU"
  },
  "cells": [
    {
      "cell_type": "markdown",
      "metadata": {
        "id": "view-in-github",
        "colab_type": "text"
      },
      "source": [
        "<a href=\"https://colab.research.google.com/github/ben854719/Threat-Detection-System/blob/main/Threat_Detection_System.ipynb\" target=\"_parent\"><img src=\"https://colab.research.google.com/assets/colab-badge.svg\" alt=\"Open In Colab\"/></a>"
      ]
    },
    {
      "cell_type": "code",
      "execution_count": null,
      "metadata": {
        "colab": {
          "base_uri": "https://localhost:8080/"
        },
        "collapsed": true,
        "id": "lujsrgkEyJzK",
        "outputId": "724d2839-4464-40da-8f65-fcb18bc5ce1b"
      },
      "outputs": [
        {
          "output_type": "stream",
          "name": "stdout",
          "text": [
            "\r0% [Working]\r            \rHit:1 https://cli.github.com/packages stable InRelease\n",
            "Get:2 https://cloud.r-project.org/bin/linux/ubuntu jammy-cran40/ InRelease [3,632 B]\n",
            "Get:3 https://r2u.stat.illinois.edu/ubuntu jammy InRelease [6,555 B]\n",
            "Get:4 http://security.ubuntu.com/ubuntu jammy-security InRelease [129 kB]\n",
            "Get:5 https://cloud.r-project.org/bin/linux/ubuntu jammy-cran40/ Packages [80.2 kB]\n",
            "Get:6 https://r2u.stat.illinois.edu/ubuntu jammy/main amd64 Packages [2,783 kB]\n",
            "Hit:7 http://archive.ubuntu.com/ubuntu jammy InRelease\n",
            "Hit:8 https://ppa.launchpadcontent.net/deadsnakes/ppa/ubuntu jammy InRelease\n",
            "Get:9 http://archive.ubuntu.com/ubuntu jammy-updates InRelease [128 kB]\n",
            "Hit:10 https://ppa.launchpadcontent.net/ubuntugis/ppa/ubuntu jammy InRelease\n",
            "Get:11 https://r2u.stat.illinois.edu/ubuntu jammy/main all Packages [9,209 kB]\n",
            "Get:12 http://security.ubuntu.com/ubuntu jammy-security/main amd64 Packages [3,297 kB]\n",
            "Get:13 http://archive.ubuntu.com/ubuntu jammy-backports InRelease [127 kB]\n",
            "Get:14 http://archive.ubuntu.com/ubuntu jammy-updates/main amd64 Packages [3,617 kB]\n",
            "Get:15 http://security.ubuntu.com/ubuntu jammy-security/restricted amd64 Packages [5,340 kB]\n",
            "Get:16 http://security.ubuntu.com/ubuntu jammy-security/universe amd64 Packages [1,272 kB]\n",
            "Get:17 http://archive.ubuntu.com/ubuntu jammy-updates/restricted amd64 Packages [5,543 kB]\n",
            "Get:18 http://archive.ubuntu.com/ubuntu jammy-updates/universe amd64 Packages [1,576 kB]\n",
            "Fetched 33.1 MB in 3s (12.7 MB/s)\n",
            "Reading package lists... Done\n",
            "W: Skipping acquire of configured file 'main/source/Sources' as repository 'https://r2u.stat.illinois.edu/ubuntu jammy InRelease' does not seem to provide it (sources.list entry misspelt?)\n",
            "Reading package lists... Done\n",
            "Building dependency tree... Done\n",
            "Reading state information... Done\n",
            "libboost-all-dev is already the newest version (1.74.0.3ubuntu7).\n",
            "0 upgraded, 0 newly installed, 0 to remove and 7 not upgraded.\n"
          ]
        }
      ],
      "source": [
        "!apt-get update\n",
        "!apt-get install libboost-all-dev"
      ]
    },
    {
      "cell_type": "code",
      "source": [
        "%%writefile AlarmSystem.cpp\n",
        "\n",
        "#include <iostream>\n",
        "#include <fstream>\n",
        "#include <string>\n",
        "#include <sys/stat.h>\n",
        "#include <fcntl.h>\n",
        "#include <unistd.h>\n",
        "#include \"RansomWare.detector\"\n",
        "\n",
        "int main() {\n",
        "    const char* pipe_path = \"/tmp/ThreatPipe\";\n",
        "\n",
        "    // Create the named pipe (FIFO) if it doesn't exist\n",
        "    mkfifo(pipe_path, 0666);\n",
        "\n",
        "    // Open the named pipe for writing\n",
        "    int pipe_fd = open(pipe_path, O_WRONLY);\n",
        "\n",
        "    if (pipe_fd == -1) {\n",
        "        std::cerr << \"Failed to open pipe.\" << std::endl;\n",
        "        return 1;\n",
        "    }\n",
        "\n",
        "    std::string message = \"entropy=7.8,file_size=204800,prediction=1\";\n",
        "    write(pipe_fd, message.c_str(), message.size());\n",
        "\n",
        "    close(pipe_fd);\n",
        "    return 0;\n",
        "}"
      ],
      "metadata": {
        "colab": {
          "base_uri": "https://localhost:8080/"
        },
        "id": "6oGqRXEl0B0N",
        "outputId": "532e4ea5-60dc-4c0a-b1db-edb9083c7b1f"
      },
      "execution_count": null,
      "outputs": [
        {
          "output_type": "stream",
          "name": "stdout",
          "text": [
            "Overwriting AlarmSystem.cpp\n"
          ]
        }
      ]
    },
    {
      "cell_type": "code",
      "source": [
        "!g++ AlarmSystem.cpp -o AlarmSystem\n",
        "!./AlarmSystem"
      ],
      "metadata": {
        "colab": {
          "base_uri": "https://localhost:8080/"
        },
        "collapsed": true,
        "id": "ycVGUylU5XM8",
        "outputId": "f3a62694-9d19-4aa9-bc2c-c28d05da932c"
      },
      "execution_count": 10,
      "outputs": [
        {
          "output_type": "stream",
          "name": "stdout",
          "text": [
            "^C\n"
          ]
        }
      ]
    },
    {
      "cell_type": "code",
      "source": [
        "%%writefile RansomWare.detector.hpp\n",
        "\n",
        "#include <windows.h>\n",
        "#include <iostream>\n",
        "#include <string>\n",
        "\n",
        "void MonitorDirectory(const std::wstring& path) {\n",
        "    HANDLE hDir = CreateFileW(\n",
        "        path.c_str(), FILE_LIST_DIRECTORY,\n",
        "        FILE_SHARE_READ | FILE_SHARE_WRITE | FILE_SHARE_DELETE,\n",
        "        NULL, OPEN_EXISTING, FILE_FLAG_BACKUP_SEMANTICS, NULL);\n",
        "\n",
        "    if (hDir == INVALID_HANDLE_VALUE) {\n",
        "        std::wcerr << L\"Failed to open directory.\" << std::endl;\n",
        "        return;\n",
        "    }\n",
        "\n",
        "    char buffer[1024];\n",
        "    DWORD bytesReturned;\n",
        "\n",
        "    while (true) {\n",
        "        if (ReadDirectoryChangesW(hDir, buffer, sizeof(buffer), TRUE,\n",
        "            FILE_NOTIFY_CHANGE_FILE_NAME | FILE_NOTIFY_CHANGE_LAST_WRITE,\n",
        "            &bytesReturned, NULL, NULL)) {\n",
        "            std::cout << \"Suspicious file activity detected!\" << std::endl;\n",
        "            // Send to Python or log to file\n",
        "        }\n",
        "    }\n",
        "}"
      ],
      "metadata": {
        "colab": {
          "base_uri": "https://localhost:8080/"
        },
        "id": "L9HvPCfU3ZnM",
        "outputId": "e6b4e29c-3608-4424-fe2c-ab6baaac8ce8"
      },
      "execution_count": 7,
      "outputs": [
        {
          "output_type": "stream",
          "name": "stdout",
          "text": [
            "Writing RansomWare.detector.hpp\n"
          ]
        }
      ]
    },
    {
      "cell_type": "code",
      "metadata": {
        "colab": {
          "base_uri": "https://localhost:8080/"
        },
        "id": "ac14dc24",
        "outputId": "49e651e3-ad27-497d-988d-70f0e9644a60"
      },
      "source": [
        "import pandas as pd\n",
        "from sklearn.ensemble import RandomForestClassifier\n",
        "import joblib\n",
        "import os\n",
        "\n",
        "# In a real scenario, you would train and save your actual model\n",
        "dummy_model = RandomForestClassifier()\n",
        "\n",
        "# Create some dummy data to fit the model\n",
        "dummy_data = pd.DataFrame({'entropy': [1, 2, 3], 'file_size': [100, 200, 300]})\n",
        "dummy_labels = [0, 0, 1] # 0 for not ransomware, 1 for ransomware\n",
        "dummy_model.fit(dummy_data, dummy_labels)\n",
        "\n",
        "# Save the dummy model\n",
        "model_filename = \"ransomware_model.pkl\"\n",
        "joblib.dump(dummy_model, model_filename)\n",
        "\n",
        "print(f\"Dummy model saved as {model_filename}\")"
      ],
      "execution_count": 13,
      "outputs": [
        {
          "output_type": "stream",
          "name": "stdout",
          "text": [
            "Dummy model saved as ransomware_model.pkl\n"
          ]
        }
      ]
    },
    {
      "cell_type": "code",
      "metadata": {
        "colab": {
          "base_uri": "https://localhost:8080/"
        },
        "id": "95a5fec0",
        "outputId": "4ff20bf2-1844-4c41-9974-93272dac86fd"
      },
      "source": [
        "import pandas as pd\n",
        "import joblib\n",
        "\n",
        "# Load the dummy model\n",
        "model_filename = \"ransomware_model.pkl\"\n",
        "model = joblib.load(model_filename)\n",
        "\n",
        "def classify_event(event_data):\n",
        "    \"\"\"\n",
        "    Classifies an event as ransomware or not.\n",
        "\n",
        "    Args:\n",
        "        event_data (dict): A dictionary containing event features like 'entropy' and 'file_size'.\n",
        "\n",
        "    Returns:\n",
        "        int: 1 if classified as ransomware, 0 otherwise.\n",
        "    \"\"\"\n",
        "    # Convert event data to a pandas DataFrame\n",
        "    event_df = pd.DataFrame([event_data])\n",
        "\n",
        "    # Make a prediction using the loaded model\n",
        "    prediction = model.predict(event_df)\n",
        "\n",
        "    return int(prediction[0])\n",
        "\n",
        "# Test the classify_event function with sample data\n",
        "sample_event_1 = {'entropy': 2.5, 'file_size': 150}\n",
        "prediction_1 = classify_event(sample_event_1)\n",
        "print(f\"Sample Event 1 ({sample_event_1}): Prediction = {prediction_1}\")\n",
        "\n",
        "sample_event_2 = {'entropy': 7.8, 'file_size': 204800}\n",
        "prediction_2 = classify_event(sample_event_2)\n",
        "print(f\"Sample Event 2 ({sample_event_2}): Prediction = {prediction_2}\")"
      ],
      "execution_count": 14,
      "outputs": [
        {
          "output_type": "stream",
          "name": "stdout",
          "text": [
            "Sample Event 1 ({'entropy': 2.5, 'file_size': 150}): Prediction = 0\n",
            "Sample Event 2 ({'entropy': 7.8, 'file_size': 204800}): Prediction = 1\n"
          ]
        }
      ]
    }
  ]
}